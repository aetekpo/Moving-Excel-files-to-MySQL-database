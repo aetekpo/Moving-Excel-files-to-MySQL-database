{
 "cells": [
  {
   "cell_type": "code",
   "execution_count": null,
   "metadata": {},
   "outputs": [],
   "source": [
    "\"\"\"\n",
    "Date: 12/30/2024\n",
    "Author: Asserewou Etekpo\n",
    "Tpoic: Split subfraudtest data into Excel Sheets to be loaded into the database\n",
    "\n",
    "\"\"\""
   ]
  },
  {
   "cell_type": "code",
   "execution_count": null,
   "metadata": {},
   "outputs": [],
   "source": [
    "# This is to confirm the current working directory\n",
    "\n",
    "import os\n",
    "print(os.getcwd())\n",
    " "
   ]
  },
  {
   "cell_type": "code",
   "execution_count": null,
   "metadata": {},
   "outputs": [],
   "source": [
    "import pandas as pd\n",
    "\n",
    "# Lets upload the dataset into Pandas\n",
    "file_path = 'subfraudtest.csv'  # Assuming 'data' is a subdirectory in your project\n",
    "df = pd.read_csv(file_path)\n",
    "\n",
    "df.info()"
   ]
  },
  {
   "cell_type": "code",
   "execution_count": 4,
   "metadata": {},
   "outputs": [],
   "source": [
    "# Create separate DataFrames for each sheet with respective columns\n",
    "\n",
    "columns_Location = ['zip','city','state','latitude','longitude','city_pop']\n",
    "columns_Cardholder = ['cc_num','first','last','gender', 'street','city','state','zip','job','dob']\n",
    "columns_Merchant = ['merchant','category','merch_lat','merch_long']\n",
    "columns_Transaction = ['trans_num','cc_num','trans_date_trans_time','amt','is_fraud','merchant']\n",
    "\n",
    "df_Location = df[columns_Location]\n",
    "df_Cardholder = df[columns_Cardholder]\n",
    "df_Merchant = df[columns_Merchant]\n",
    "df_Transaction = df[columns_Transaction]\n"
   ]
  },
  {
   "cell_type": "code",
   "execution_count": 5,
   "metadata": {},
   "outputs": [],
   "source": [
    "# Write the original DataFrame to an Excel File with multiple sheets \n",
    "\n",
    "\n",
    "output_file_path = r\"C:\\Users\\honor\\OneDrive\\Documents\\CreditCardProject\\data\\splitsubfraudtest.xlsx\"\n",
    "with pd.ExcelWriter(output_file_path, engine='openpyxl') as writer:\n",
    "    df.to_excel(writer, sheet_name='subfraudtest', index=False)\n",
    "    df_Location.to_excel(writer, sheet_name='sheet_Location', index=False)\n",
    "    df_Cardholder.to_excel(writer, sheet_name='sheet_Cardholder', index=False)\n",
    "    df_Merchant.to_excel(writer, sheet_name='sheet_Merchant', index=False)\n",
    "    df_Transaction.to_excel(writer, sheet_name='sheet_Transaction', index=False)\n",
    "    \n"
   ]
  }
 ],
 "metadata": {
  "kernelspec": {
   "display_name": "base",
   "language": "python",
   "name": "python3"
  },
  "language_info": {
   "codemirror_mode": {
    "name": "ipython",
    "version": 3
   },
   "file_extension": ".py",
   "mimetype": "text/x-python",
   "name": "python",
   "nbconvert_exporter": "python",
   "pygments_lexer": "ipython3",
   "version": "3.12.4"
  }
 },
 "nbformat": 4,
 "nbformat_minor": 2
}
