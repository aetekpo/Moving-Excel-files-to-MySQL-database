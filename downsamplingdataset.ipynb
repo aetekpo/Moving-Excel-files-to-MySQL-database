{
 "cells": [
  {
   "cell_type": "code",
   "execution_count": null,
   "metadata": {},
   "outputs": [],
   "source": [
    "\"\"\"\n",
    "Date: 12/30/2024\n",
    "Author: Asserewou Etekpo\n",
    "Tpoic: Downsample a large dataset (Credit Card Transactions Fraud Detection Dataset)\n",
    " from Kaggle to a manageable size for testing purposes (10,000 rows)\n",
    "\n",
    "\"\"\""
   ]
  },
  {
   "cell_type": "code",
   "execution_count": 2,
   "metadata": {},
   "outputs": [],
   "source": [
    "import pandas as pd\n",
    "\n",
    "# Lets upload the dataset into Pandas\n",
    "file_path = 'data/fraudTest1.csv'  # Assuming 'data' is a subdirectory in your project\n",
    "df = pd.read_csv(file_path)\n"
   ]
  },
  {
   "cell_type": "code",
   "execution_count": null,
   "metadata": {},
   "outputs": [],
   "source": [
    "# Lets profile the dataset\n",
    "\n",
    "df.info() # This will give us the number of rows and columns in the dataset"
   ]
  },
  {
   "cell_type": "code",
   "execution_count": 6,
   "metadata": {},
   "outputs": [],
   "source": [
    "\n",
    "# Let's separate the dataset into two subsets(df_fraud and df_non_fraud) based on the is_fraud column\n",
    "\n",
    "df_fraud = df[df['is_fraud'] == 1]\n",
    "\n",
    "df_non_fraud = df[df['is_fraud'] == 0]\n"
   ]
  },
  {
   "cell_type": "code",
   "execution_count": 7,
   "metadata": {},
   "outputs": [],
   "source": [
    "# We would like to downsample the dataset to 10,000 rows.\n",
    "# Have 70% of the rows as fraud transactions and 30% as non-fraud transactions\n",
    "# Lets calculate the number of rows to sample from each subset\n",
    "# We want a dataset with 10,000 rows\n",
    "total_rows = 10000\n",
    "fraud_rows = int(total_rows * 0.7)  # For example, 70% fraud\n",
    "non_fraud_rows = total_rows - fraud_rows "
   ]
  },
  {
   "cell_type": "code",
   "execution_count": 8,
   "metadata": {},
   "outputs": [],
   "source": [
    "# Separate the dataset into two subsets based on the is_fraud column\n",
    "\n",
    "df_fraud = df[df['is_fraud'] == 1]\n",
    "\n",
    "df_non_fraud = df[df['is_fraud'] == 0]\n"
   ]
  },
  {
   "cell_type": "code",
   "execution_count": 9,
   "metadata": {},
   "outputs": [],
   "source": [
    "# Downsample each subset \n",
    "df_fraud_sampled = df_fraud.sample(n=fraud_rows, random_state=42, replace=True) \n",
    "\n",
    "df_non_fraud_sampled = df_non_fraud.sample(n=non_fraud_rows, random_state=42, replace=True)\n"
   ]
  },
  {
   "cell_type": "code",
   "execution_count": 10,
   "metadata": {},
   "outputs": [],
   "source": [
    "# Combine the downsampled subsets into a single dataset\n",
    "\n",
    "df_downsampled = pd.concat([df_fraud_sampled, df_non_fraud_sampled], ignore_index=True)\n"
   ]
  },
  {
   "cell_type": "code",
   "execution_count": null,
   "metadata": {},
   "outputs": [],
   "source": [
    "# Lets save the downsampled dataset to a new file\n",
    "\n",
    "df_downsampled.shape"
   ]
  },
  {
   "cell_type": "code",
   "execution_count": null,
   "metadata": {},
   "outputs": [],
   "source": [
    "# Shuffle the combined dataframe to mix the rows\n",
    "\n",
    "df_downsampled = df_downsampled.sample(frac=1, random_state=42).reset_index(drop=True)\n",
    "\n"
   ]
  },
  {
   "cell_type": "code",
   "execution_count": null,
   "metadata": {},
   "outputs": [],
   "source": [
    "# Lets check the first 5 rows of the downsampled dataset\n",
    "\n",
    "df_downsampled.sample(5, random_state=42)"
   ]
  },
  {
   "cell_type": "code",
   "execution_count": 8,
   "metadata": {},
   "outputs": [],
   "source": [
    "# Lets save the downsampled dataset to a new Excel file\n",
    "\n",
    "# output_file_path = 'data/subfraudtest.csv'\n",
    "\n",
    "output_file_path = r'C:\\Users\\honor\\OneDrive\\Documents\\CreditCardProject\\data\\subfraudtest.csv'\n",
    "\n",
    "df_downsampled.to_csv(output_file_path, index=False)\n"
   ]
  }
 ],
 "metadata": {
  "kernelspec": {
   "display_name": "base",
   "language": "python",
   "name": "python3"
  },
  "language_info": {
   "codemirror_mode": {
    "name": "ipython",
    "version": 3
   },
   "file_extension": ".py",
   "mimetype": "text/x-python",
   "name": "python",
   "nbconvert_exporter": "python",
   "pygments_lexer": "ipython3",
   "version": "3.12.4"
  }
 },
 "nbformat": 4,
 "nbformat_minor": 2
}
